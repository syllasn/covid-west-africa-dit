{
 "cells": [
  {
   "cell_type": "code",
   "execution_count": 1,
   "metadata": {},
   "outputs": [],
   "source": [
    "import numpy as np \n",
    "import matplotlib.pyplot as plt \n",
    "import matplotlib.colors as mcolors\n",
    "import seaborn as sns\n",
    "import pandas as pd \n",
    "import random\n",
    "import math\n",
    "from scipy.stats import expon\n",
    "import time\n",
    "from sklearn.linear_model import LinearRegression, BayesianRidge\n",
    "from sklearn.model_selection import RandomizedSearchCV, train_test_split\n",
    "from sklearn.preprocessing import PolynomialFeatures\n",
    "from sklearn.svm import SVR\n",
    "from sklearn.metrics import mean_squared_error, mean_absolute_error\n",
    "import datetime\n",
    "import operator \n",
    "from pandas import DataFrame\n",
    "from statsmodels.tsa.arima_model import ARIMA\n",
    "from pandas import read_csv\n",
    "from pandas.plotting import autocorrelation_plot\n",
    "import scipy.optimize as optim\n",
    "\n",
    "#from pandas import datetime\n",
    "from matplotlib import pyplot\n",
    "from statsmodels.tsa.arima_model import ARIMA\n",
    "from sklearn.metrics import mean_squared_error\n",
    "plt.style.use('seaborn')\n",
    "from fbprophet import Prophet\n",
    "from fbprophet.diagnostics import cross_validation\n",
    "from fbprophet.diagnostics import performance_metrics\n",
    "from fbprophet.plot import plot_cross_validation_metric\n",
    "\n",
    "\n",
    "from scipy.stats import norm\n",
    "import statsmodels.api as sm\n",
    "import matplotlib.pyplot as plt\n",
    "from datetime import datetime\n",
    "import requests\n",
    "from io import BytesIO\n",
    "# Register converters to avoid warnings\n",
    "pd.plotting.register_matplotlib_converters()"
   ]
  },
  {
   "cell_type": "code",
   "execution_count": 2,
   "metadata": {},
   "outputs": [
    {
     "data": {
      "text/html": [
       "<div>\n",
       "<style scoped>\n",
       "    .dataframe tbody tr th:only-of-type {\n",
       "        vertical-align: middle;\n",
       "    }\n",
       "\n",
       "    .dataframe tbody tr th {\n",
       "        vertical-align: top;\n",
       "    }\n",
       "\n",
       "    .dataframe thead th {\n",
       "        text-align: right;\n",
       "    }\n",
       "</style>\n",
       "<table border=\"1\" class=\"dataframe\">\n",
       "  <thead>\n",
       "    <tr style=\"text-align: right;\">\n",
       "      <th></th>\n",
       "      <th>Country</th>\n",
       "      <th>lat</th>\n",
       "      <th>long</th>\n",
       "      <th>Date</th>\n",
       "      <th>Daily_case</th>\n",
       "      <th>Confirmed_cases</th>\n",
       "      <th>Imported_cases</th>\n",
       "      <th>Cum_Imported_cases</th>\n",
       "      <th>contacts</th>\n",
       "      <th>Cum_contacts</th>\n",
       "      <th>Communities_cases</th>\n",
       "      <th>Cum_communities_cases</th>\n",
       "      <th>Recovered</th>\n",
       "      <th>Cum_recored</th>\n",
       "      <th>Nb_tests</th>\n",
       "      <th>Cum_Nb_tests</th>\n",
       "      <th>Dead</th>\n",
       "      <th>Cum_Dead</th>\n",
       "      <th>evacuat_out</th>\n",
       "      <th>Cum_evacuat_out</th>\n",
       "    </tr>\n",
       "  </thead>\n",
       "  <tbody>\n",
       "    <tr>\n",
       "      <td>49</td>\n",
       "      <td>Senegal</td>\n",
       "      <td>14.497448</td>\n",
       "      <td>-14.452448</td>\n",
       "      <td>2020-04-20</td>\n",
       "      <td>10</td>\n",
       "      <td>377</td>\n",
       "      <td>0</td>\n",
       "      <td>85</td>\n",
       "      <td>5</td>\n",
       "      <td>250</td>\n",
       "      <td>5</td>\n",
       "      <td>42</td>\n",
       "      <td>15</td>\n",
       "      <td>235</td>\n",
       "      <td>281</td>\n",
       "      <td>5303</td>\n",
       "      <td>2</td>\n",
       "      <td>5</td>\n",
       "      <td>0</td>\n",
       "      <td>1</td>\n",
       "    </tr>\n",
       "    <tr>\n",
       "      <td>50</td>\n",
       "      <td>Senegal</td>\n",
       "      <td>14.497449</td>\n",
       "      <td>-14.452449</td>\n",
       "      <td>2020-04-21</td>\n",
       "      <td>35</td>\n",
       "      <td>412</td>\n",
       "      <td>0</td>\n",
       "      <td>85</td>\n",
       "      <td>34</td>\n",
       "      <td>284</td>\n",
       "      <td>1</td>\n",
       "      <td>43</td>\n",
       "      <td>7</td>\n",
       "      <td>242</td>\n",
       "      <td>466</td>\n",
       "      <td>5769</td>\n",
       "      <td>0</td>\n",
       "      <td>5</td>\n",
       "      <td>0</td>\n",
       "      <td>1</td>\n",
       "    </tr>\n",
       "    <tr>\n",
       "      <td>51</td>\n",
       "      <td>Senegal</td>\n",
       "      <td>14.497450</td>\n",
       "      <td>-14.452450</td>\n",
       "      <td>2020-04-22</td>\n",
       "      <td>30</td>\n",
       "      <td>442</td>\n",
       "      <td>0</td>\n",
       "      <td>85</td>\n",
       "      <td>26</td>\n",
       "      <td>310</td>\n",
       "      <td>4</td>\n",
       "      <td>47</td>\n",
       "      <td>11</td>\n",
       "      <td>253</td>\n",
       "      <td>482</td>\n",
       "      <td>6251</td>\n",
       "      <td>1</td>\n",
       "      <td>6</td>\n",
       "      <td>0</td>\n",
       "      <td>1</td>\n",
       "    </tr>\n",
       "    <tr>\n",
       "      <td>52</td>\n",
       "      <td>Senegal</td>\n",
       "      <td>14.497451</td>\n",
       "      <td>-14.452451</td>\n",
       "      <td>2020-04-23</td>\n",
       "      <td>37</td>\n",
       "      <td>479</td>\n",
       "      <td>0</td>\n",
       "      <td>85</td>\n",
       "      <td>29</td>\n",
       "      <td>339</td>\n",
       "      <td>8</td>\n",
       "      <td>55</td>\n",
       "      <td>4</td>\n",
       "      <td>257</td>\n",
       "      <td>387</td>\n",
       "      <td>6638</td>\n",
       "      <td>0</td>\n",
       "      <td>6</td>\n",
       "      <td>0</td>\n",
       "      <td>1</td>\n",
       "    </tr>\n",
       "    <tr>\n",
       "      <td>53</td>\n",
       "      <td>Senegal</td>\n",
       "      <td>14.497452</td>\n",
       "      <td>-14.452452</td>\n",
       "      <td>2020-04-24</td>\n",
       "      <td>66</td>\n",
       "      <td>545</td>\n",
       "      <td>0</td>\n",
       "      <td>85</td>\n",
       "      <td>61</td>\n",
       "      <td>400</td>\n",
       "      <td>5</td>\n",
       "      <td>60</td>\n",
       "      <td>5</td>\n",
       "      <td>262</td>\n",
       "      <td>528</td>\n",
       "      <td>7166</td>\n",
       "      <td>1</td>\n",
       "      <td>7</td>\n",
       "      <td>0</td>\n",
       "      <td>1</td>\n",
       "    </tr>\n",
       "  </tbody>\n",
       "</table>\n",
       "</div>"
      ],
      "text/plain": [
       "    Country        lat       long       Date  Daily_case  Confirmed_cases  \\\n",
       "49  Senegal  14.497448 -14.452448 2020-04-20          10              377   \n",
       "50  Senegal  14.497449 -14.452449 2020-04-21          35              412   \n",
       "51  Senegal  14.497450 -14.452450 2020-04-22          30              442   \n",
       "52  Senegal  14.497451 -14.452451 2020-04-23          37              479   \n",
       "53  Senegal  14.497452 -14.452452 2020-04-24          66              545   \n",
       "\n",
       "    Imported_cases  Cum_Imported_cases  contacts  Cum_contacts  \\\n",
       "49               0                  85         5           250   \n",
       "50               0                  85        34           284   \n",
       "51               0                  85        26           310   \n",
       "52               0                  85        29           339   \n",
       "53               0                  85        61           400   \n",
       "\n",
       "    Communities_cases  Cum_communities_cases  Recovered  Cum_recored  \\\n",
       "49                  5                     42         15          235   \n",
       "50                  1                     43          7          242   \n",
       "51                  4                     47         11          253   \n",
       "52                  8                     55          4          257   \n",
       "53                  5                     60          5          262   \n",
       "\n",
       "    Nb_tests  Cum_Nb_tests  Dead  Cum_Dead  evacuat_out  Cum_evacuat_out  \n",
       "49       281          5303     2         5            0                1  \n",
       "50       466          5769     0         5            0                1  \n",
       "51       482          6251     1         6            0                1  \n",
       "52       387          6638     0         6            0                1  \n",
       "53       528          7166     1         7            0                1  "
      ]
     },
     "execution_count": 2,
     "metadata": {},
     "output_type": "execute_result"
    }
   ],
   "source": [
    "file_name = 'Covid19SN_datas.xlsx'\n",
    "df_senegal = pd.read_excel(file_name, index_col=0)\n",
    "df_senegal.shape\n",
    "df_senegal = df_senegal.reset_index()\n",
    "df_senegal['Date'] = pd.to_datetime(df_senegal['Date'])\n",
    "df_senegal.tail()"
   ]
  },
  {
   "cell_type": "code",
   "execution_count": 3,
   "metadata": {},
   "outputs": [],
   "source": [
    "def get_daily_var(ct,df):\n",
    "    \n",
    "    \"\"\"\n",
    "      This function takes the countries name and database in parameters.\n",
    "      It returns a datframe with daily cases value and date as index\n",
    "    \"\"\"\n",
    "    #Prepare country data\n",
    "    ct_df = df[df['Country'] == ct]\n",
    "    first_date = ct_df[ct_df['Confirmed_cases'] != 0]['Date'].values[0]\n",
    "    confirmed = ct_df[ct_df['Date'] >= first_date]\n",
    "    confirmed_cases = confirmed[['Date', 'Daily_case']].set_index('Date')\n",
    "    \n",
    "    \n",
    "    return confirmed_cases"
   ]
  },
  {
   "cell_type": "code",
   "execution_count": 4,
   "metadata": {},
   "outputs": [],
   "source": [
    "def get_pred_data (conf):\n",
    "          \n",
    "    \"\"\"\n",
    "      This function takes the daily dataframe and return it as arrays value\n",
    "      for modelling purpose\n",
    "    \"\"\"\n",
    "    #rearange dataframe values in array format\n",
    "    cases_daily = np.array(conf).reshape(-1,1)\n",
    "    cases_cum = np.array(conf.cumsum()).reshape(-1,1)\n",
    "    days_since = np.arange(len(conf)).reshape(-1,1)\n",
    "    \n",
    "    return  cases_daily, cases_cum, days_since"
   ]
  },
  {
   "cell_type": "code",
   "execution_count": 5,
   "metadata": {},
   "outputs": [],
   "source": [
    "def get_pred_date (n, conf):\n",
    "    \n",
    "    \"\"\"\n",
    "      This function generates n days for prediction\n",
    "    \"\"\"\n",
    "    future_forcast = np.arange(len(conf) + n).reshape(-1,1)\n",
    "    start_date = conf.index[0]\n",
    "    future_forcast_dates = [(start_date + datetime.timedelta(days=i)).strftime('%d/%m/%Y') for i in range(len(future_forcast))] \n",
    "    \n",
    "    return future_forcast,future_forcast_dates"
   ]
  },
  {
   "cell_type": "code",
   "execution_count": 7,
   "metadata": {},
   "outputs": [],
   "source": [
    "cases_df = get_daily_var('Senegal',df_senegal)   \n",
    "cases_daily, cases_cum, days_since = get_pred_data(cases_df)"
   ]
  },
  {
   "cell_type": "markdown",
   "metadata": {},
   "source": [
    "# Modele ARMA"
   ]
  },
  {
   "cell_type": "code",
   "execution_count": 8,
   "metadata": {},
   "outputs": [],
   "source": [
    "X = cases_daily\n",
    "size = int(len(X) * 0.66)\n",
    "train, test = X[0:size], X[size:len(X)]\n",
    "history = [x for x in train]"
   ]
  },
  {
   "cell_type": "code",
   "execution_count": 9,
   "metadata": {},
   "outputs": [
    {
     "data": {
      "image/png": "[encoded data removed]",
      "text/plain": [
       "<Figure size 1080x360 with 1 Axes>"
      ]
     },
     "metadata": {
      "needs_background": "light"
     },
     "output_type": "display_data"
    }
   ],
   "source": [
    "plt.figure(figsize=(15,5))\n",
    "pyplot.plot(X)\n",
    "pyplot.xticks(rotation = 90)\n",
    "pyplot.show()"
   ]
  },
  {
   "cell_type": "code",
   "execution_count": 11,
   "metadata": {},
   "outputs": [
    {
     "name": "stdout",
     "output_type": "stream",
     "text": [
      "Observations: 54\n",
      "Training Observations: 35\n",
      "Testing Observations: 19\n"
     ]
    }
   ],
   "source": [
    "Y = cases_daily\n",
    "#Y = confirmed_cases\n",
    "\n",
    "\n",
    "train_size = int(len(Y) * 0.66)\n",
    "train, test = Y[0:train_size], Y[train_size:len(Y)]\n",
    "print('Observations: %d' % (len(Y)))\n",
    "print('Training Observations: %d' % (len(train)))\n",
    "print('Testing Observations: %d' % (len(test)))"
   ]
  },
  {
   "cell_type": "code",
   "execution_count": 12,
   "metadata": {},
   "outputs": [
    {
     "data": {
      "image/png": "[encoded data removed]",
      "text/plain": [
       "<Figure size 1080x360 with 1 Axes>"
      ]
     },
     "metadata": {
      "needs_background": "light"
     },
     "output_type": "display_data"
    }
   ],
   "source": [
    "plt.figure(figsize=(15,5))\n",
    "pyplot.plot(train)\n",
    "pyplot.xticks(rotation = 90)\n",
    "pyplot.plot([None for i in train] + [x for x in test])\n",
    "pyplot.show()"
   ]
  },
  {
   "cell_type": "code",
   "execution_count": 14,
   "metadata": {},
   "outputs": [
    {
     "name": "stdout",
     "output_type": "stream",
     "text": [
      "                             ARIMA Model Results                              \n",
      "==============================================================================\n",
      "Dep. Variable:                    D.y   No. Observations:                   53\n",
      "Model:                 ARIMA(5, 1, 0)   Log Likelihood                -172.517\n",
      "Method:                       css-mle   S.D. of innovations              6.186\n",
      "Date:                Sat, 25 Apr 2020   AIC                            359.035\n",
      "Time:                        16:00:21   BIC                            372.827\n",
      "Sample:                             1   HQIC                           364.339\n",
      "                                                                              \n",
      "==============================================================================\n",
      "                 coef    std err          z      P>|z|      [0.025      0.975]\n",
      "------------------------------------------------------------------------------\n",
      "const          1.3906      1.230      1.130      0.264      -1.021       3.802\n",
      "ar.L1.D.y     -0.3062      0.149     -2.055      0.045      -0.598      -0.014\n",
      "ar.L2.D.y     -0.0077      0.163     -0.047      0.962      -0.328       0.312\n",
      "ar.L3.D.y      0.4155      0.164      2.529      0.015       0.093       0.738\n",
      "ar.L4.D.y     -0.0597      0.183     -0.326      0.746      -0.419       0.300\n",
      "ar.L5.D.y      0.2390      0.168      1.426      0.160      -0.089       0.567\n",
      "                                    Roots                                    \n",
      "=============================================================================\n",
      "                  Real          Imaginary           Modulus         Frequency\n",
      "-----------------------------------------------------------------------------\n",
      "AR.1           -0.8054           -0.7515j            1.1015           -0.3805\n",
      "AR.2           -0.8054           +0.7515j            1.1015            0.3805\n",
      "AR.3            1.2499           -0.0000j            1.2499           -0.0000\n",
      "AR.4            0.3053           -1.6327j            1.6610           -0.2206\n",
      "AR.5            0.3053           +1.6327j            1.6610            0.2206\n",
      "-----------------------------------------------------------------------------\n"
     ]
    },
    {
     "data": {
      "image/png": "[encoded data removed]",
      "text/plain": [
       "<Figure size 432x288 with 1 Axes>"
      ]
     },
     "metadata": {
      "needs_background": "light"
     },
     "output_type": "display_data"
    },
    {
     "data": {
      "image/png": "[encoded data removed]",
      "text/plain": [
       "<Figure size 432x288 with 1 Axes>"
      ]
     },
     "metadata": {
      "needs_background": "light"
     },
     "output_type": "display_data"
    },
    {
     "name": "stdout",
     "output_type": "stream",
     "text": [
      "               0\n",
      "count  53.000000\n",
      "mean    0.052483\n",
      "std     6.253976\n",
      "min   -14.038705\n",
      "25%    -3.799414\n",
      "50%    -0.585022\n",
      "75%     3.306174\n",
      "max    19.241747\n"
     ]
    }
   ],
   "source": [
    "# fit model\n",
    "model = ARIMA(X, order=(5,1,0))\n",
    "model_fit = model.fit(disp=0)\n",
    "print(model_fit.summary())\n",
    "# plot residual errors\n",
    "residuals = DataFrame(model_fit.resid)\n",
    "residuals.plot()\n",
    "pyplot.show()\n",
    "residuals.plot(kind='kde')\n",
    "pyplot.show()\n",
    "print(residuals.describe())"
   ]
  },
  {
   "cell_type": "code",
   "execution_count": 46,
   "metadata": {},
   "outputs": [
    {
     "ename": "IndentationError",
     "evalue": "unindent does not match any outer indentation level (<tokenize>, line 16)",
     "output_type": "error",
     "traceback": [
      "\u001b[0;36m  File \u001b[0;32m\"<tokenize>\"\u001b[0;36m, line \u001b[0;32m16\u001b[0m\n\u001b[0;31m    return  best_cfg\u001b[0m\n\u001b[0m    ^\u001b[0m\n\u001b[0;31mIndentationError\u001b[0m\u001b[0;31m:\u001b[0m unindent does not match any outer indentation level\n"
     ]
    }
   ],
   "source": [
    "def evaluate_models(dataset, p_values, d_values, q_values):\n",
    "\tdataset = dataset.astype('float32')\n",
    "\tbest_score, best_cfg = float(\"inf\"), None\n",
    "\tfor p in p_values:\n",
    "\t\tfor d in d_values:\n",
    "\t\t\tfor q in q_values:\n",
    "\t\t\t\torder = (p,d,q)\n",
    "\t\t\t\ttry:\n",
    "\t\t\t\t\tmse = evaluate_arima_model(dataset, order)\n",
    "\t\t\t\t\tif mse < best_score:\n",
    "\t\t\t\t\t\tbest_score, best_cfg = mse, order\n",
    "\t\t\t\t\tprint('ARIMA%s MSE=%.3f' % (order,mse))\n",
    "\t\t\t\texcept:\n",
    "\t\t\t\t\tcontinue\n",
    "\t#print('Best ARIMA%s MSE=%.3f' % (best_cfg, best_score))\n",
    "    return  best_cfg"
   ]
  },
  {
   "cell_type": "code",
   "execution_count": 25,
   "metadata": {},
   "outputs": [
    {
     "name": "stdout",
     "output_type": "stream",
     "text": [
      "ARIMA(0, 0, 0) MSE=307.502\n",
      "ARIMA(0, 0, 1) MSE=215.772\n",
      "ARIMA(0, 0, 2) MSE=214.170\n",
      "ARIMA(0, 1, 0) MSE=120.139\n",
      "ARIMA(0, 1, 1) MSE=129.151\n",
      "ARIMA(0, 2, 0) MSE=252.668\n",
      "ARIMA(0, 2, 1) MSE=119.809\n",
      "ARIMA(1, 0, 0) MSE=149.501\n",
      "ARIMA(1, 1, 0) MSE=117.236\n",
      "ARIMA(1, 1, 1) MSE=133.042\n",
      "ARIMA(1, 2, 0) MSE=181.338\n",
      "ARIMA(2, 0, 0) MSE=137.860\n",
      "ARIMA(2, 1, 0) MSE=118.128\n",
      "ARIMA(2, 1, 1) MSE=146.330\n",
      "ARIMA(2, 2, 0) MSE=95.272\n",
      "ARIMA(2, 2, 1) MSE=112.999\n",
      "ARIMA(4, 0, 0) MSE=126.144\n",
      "ARIMA(4, 1, 0) MSE=122.910\n",
      "ARIMA(4, 1, 1) MSE=133.486\n",
      "ARIMA(4, 1, 2) MSE=136.230\n",
      "ARIMA(4, 2, 0) MSE=105.293\n",
      "ARIMA(6, 0, 0) MSE=142.930\n",
      "ARIMA(6, 1, 0) MSE=149.101\n",
      "ARIMA(8, 0, 0) MSE=159.575\n",
      "ARIMA(8, 1, 0) MSE=163.111\n",
      "ARIMA(10, 1, 0) MSE=178.110\n",
      "Best ARIMA(2, 2, 0) MSE=95.272\n"
     ]
    }
   ],
   "source": [
    "import warnings\n",
    "warnings.filterwarnings(\"ignore\")\n",
    "# evaluate parameters\n",
    "p_values = [0, 1, 2, 4, 6, 8, 10]\n",
    "d_values = range(0, 3)\n",
    "q_values = range(0, 3)\n",
    "warnings.filterwarnings(\"ignore\")\n",
    "evaluate_models(X, p_values, d_values, q_values)"
   ]
  },
  {
   "cell_type": "code",
   "execution_count": 19,
   "metadata": {},
   "outputs": [],
   "source": [
    "# evaluate an ARIMA model for a given order (p,d,q)\n",
    "def evaluate_arima_model(X, arima_order):\n",
    "\t# prepare training dataset\n",
    "\ttrain_size = int(len(X) * 0.66)\n",
    "\ttrain, test = X[0:train_size], X[train_size:]\n",
    "\thistory = [x for x in train]\n",
    "\t# make predictions\n",
    "\tpredictions = list()\n",
    "\tfor t in range(len(test)):\n",
    "\t\tmodel = ARIMA(history, order=arima_order)\n",
    "\t\tmodel_fit = model.fit(disp=0)\n",
    "\t\tyhat = model_fit.forecast()[0]\n",
    "\t\tpredictions.append(yhat)\n",
    "\t\thistory.append(test[t])\n",
    "\t# calculate out of sample error\n",
    "\terror = mean_squared_error(test, predictions)\n",
    "\treturn error\n",
    " "
   ]
  },
  {
   "cell_type": "code",
   "execution_count": 21,
   "metadata": {},
   "outputs": [
    {
     "name": "stdout",
     "output_type": "stream",
     "text": [
      "ARIMA(0, 0, 0) MSE=307.502\n",
      "ARIMA(0, 0, 1) MSE=215.772\n",
      "ARIMA(0, 1, 0) MSE=120.139\n",
      "ARIMA(0, 1, 1) MSE=129.151\n",
      "ARIMA(1, 0, 0) MSE=149.501\n",
      "ARIMA(1, 1, 0) MSE=117.236\n",
      "ARIMA(1, 1, 1) MSE=133.042\n",
      "ARIMA(2, 0, 0) MSE=137.860\n",
      "ARIMA(2, 1, 0) MSE=118.128\n",
      "ARIMA(2, 1, 1) MSE=146.330\n",
      "ARIMA(4, 0, 0) MSE=126.144\n",
      "ARIMA(4, 1, 0) MSE=122.910\n",
      "ARIMA(4, 1, 1) MSE=133.486\n",
      "Best ARIMA(1, 1, 0) MSE=117.236\n"
     ]
    }
   ],
   "source": [
    " #load dataset\n",
    "\n",
    "\n",
    "# evaluate parameters\n",
    "p_values = [0, 1, 2, 4]\n",
    "d_values = range(0, 2)\n",
    "q_values = range(0, 2)\n",
    "warnings.filterwarnings(\"ignore\")\n",
    "evaluate_models(X, p_values, d_values, q_values)"
   ]
  },
  {
   "cell_type": "code",
   "execution_count": 26,
   "metadata": {},
   "outputs": [
    {
     "name": "stdout",
     "output_type": "stream",
     "text": [
      "predicted=7.393433, expected=4.000000\n",
      "predicted=-1.578445, expected=11.000000\n",
      "predicted=7.086032, expected=7.000000\n",
      "predicted=11.310683, expected=6.000000\n",
      "predicted=7.371517, expected=15.000000\n",
      "predicted=12.447542, expected=13.000000\n",
      "predicted=16.905855, expected=2.000000\n",
      "predicted=5.520291, expected=11.000000\n",
      "predicted=5.293450, expected=8.000000\n",
      "predicted=4.773124, expected=15.000000\n",
      "predicted=18.840543, expected=21.000000\n",
      "predicted=22.815812, expected=7.000000\n",
      "predicted=13.815360, expected=8.000000\n",
      "predicted=5.831396, expected=17.000000\n",
      "predicted=9.070252, expected=10.000000\n",
      "predicted=13.269426, expected=35.000000\n",
      "predicted=37.519901, expected=30.000000\n",
      "predicted=37.627188, expected=37.000000\n",
      "predicted=50.308738, expected=66.000000\n",
      "Test MSE: 95.272\n"
     ]
    },
    {
     "data": {
      "image/png": "[encoded data removed]",
      "text/plain": [
       "<Figure size 432x288 with 1 Axes>"
      ]
     },
     "metadata": {
      "needs_background": "light"
     },
     "output_type": "display_data"
    }
   ],
   "source": [
    "Xvalues = X\n",
    "size = int(len(Xvalues) * 0.66)\n",
    "train, test = Xvalues[0:size], Xvalues[size:len(Xvalues)]\n",
    "history = [x for x in train]\n",
    "predictions = list()\n",
    "for t in range(len(test)):\n",
    "\tmodel = ARIMA(history, order=(2,2,0))\n",
    "\tmodel_fit = model.fit(disp=0)\n",
    "\toutput = model_fit.forecast()\n",
    "\tyhat = output[0]\n",
    "\tpredictions.append(yhat)\n",
    "\tobs = test[t]\n",
    "\thistory.append(obs)\n",
    "\tprint('predicted=%f, expected=%f' % (yhat, obs))\n",
    "error = mean_squared_error(test, predictions)\n",
    "print('Test MSE: %.3f' % error)\n",
    "# plot\n",
    "pyplot.plot(test)\n",
    "pyplot.plot(predictions, color='red')\n",
    "pyplot.show()"
   ]
  },
  {
   "cell_type": "code",
   "execution_count": null,
   "metadata": {},
   "outputs": [],
   "source": [
    "def arima_mdoel(data,p_values, d_values, q_values):\n",
    "    for p in p_values:\n",
    "        for d in d_values:\n",
    "            for q in q_values:\n",
    "                order = (p,d,q)\n",
    "                try:\n",
    "                    mse = evaluate_arima_model(dataset, order)\n",
    "                    if mse < best_score:\n",
    "                        best_score, best_cfg = mse, order\n",
    "#\t\t\t\t\tprint('ARIMA%s MSE=%.3f' % (order,mse))\n",
    "                except:\n",
    "                    continue\n",
    "            \n",
    "            \n",
    "\n",
    "    size = int(len(data) * 0.66)\n",
    "    train, test = data[0:size], data[size:len(data)]\n",
    "    history = [x for x in train]\n",
    "    predictions = list()\n",
    "        for t in range(len(test)):\n",
    "            model = ARIMA(history, order=(2,2,0))\n",
    "            model_fit = model.fit(disp=0)\n",
    "            output = model_fit.forecast()\n",
    "            yhat = output[0]\n",
    "            predictions.append(yhat)\n",
    "            obs = test[t]\n",
    "            history.append(obs)\n",
    "            print('predicted=%f, expected=%f' % (yhat, obs))\n",
    "            error = mean_squared_error(test, predictions)\n",
    "            print('Test MSE: %.3f' % error)\n",
    "    # plot\n",
    "    pyplot.plot(test)\n",
    "    pyplot.plot(predictions, color='red')\n",
    "    pyplot.show()  \n",
    "    \n",
    "    \n",
    "    \n",
    "    \n",
    "    \n",
    "    return"
   ]
  }
 ],
 "metadata": {
  "kernelspec": {
   "display_name": "Python 3",
   "language": "python",
   "name": "python3"
  },
  "language_info": {
   "codemirror_mode": {
    "name": "ipython",
    "version": 3
   },
   "file_extension": ".py",
   "mimetype": "text/x-python",
   "name": "python",
   "nbconvert_exporter": "python",
   "pygments_lexer": "ipython3",
   "version": "3.7.4"
  }
 },
 "nbformat": 4,
 "nbformat_minor": 2
}
