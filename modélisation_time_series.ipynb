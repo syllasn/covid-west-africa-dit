{
 "cells": [
  {
   "cell_type": "markdown",
   "metadata": {},
   "source": [
    "# Source des donnees et bibliographie"
   ]
  },
  {
   "cell_type": "markdown",
   "metadata": {},
   "source": [
    "\n",
    "https://machinelearningmastery.com/arima-for-time-series-forecasting-with-python/\n",
    "\n",
    "https://machinelearningmastery.com/grid-search-arima-hyperparameters-with-python/\n",
    "\n",
    "https://raw.githubusercontent.com/maelfabien/\n",
    "\n",
    "https://machinelearningmastery.com/time-series-forecasting-methods-in-python-cheat-sheet/\n",
    "\n",
    "https://machinelearningmastery.com/time-series-forecasting-methods-in-python-cheat-sheet/\n",
    "https://www.cairn.info/revue-de-l-ofce-2003-3-page-203.htm\n",
    "\n",
    "https://machinelearningmastery.com/time-series-forecasting-methods-in-python-cheat-sheet/\n",
    "\n",
    "https://www.statsmodels.org/stable/statespace.html\n",
    "\n",
    "https://machinelearningmastery.com/sarima-for-time-series-forecasting-in-python/\n",
    "\n",
    "https://www.statsmodels.org/dev/examples/notebooks/generated/statespace_sarimax_stata.html\n",
    "\n",
    "https://www.analyticsvidhya.com/blog/2016/02/time-series-forecasting-codes-python/\n",
    "\n",
    "https://www.lewuathe.com/covid-19-dynamics-with-sir-model.html\n",
    "\n",
    "https://towardsdatascience.com/a-bayesian-approach-to-time-series-forecasting-d97dd4168cb7\n",
    "\n",
    "https://github.com/senegalouvert/COVID-19/tree/master/data"
   ]
  },
  {
   "cell_type": "markdown",
   "metadata": {},
   "source": [
    "# Importation des libraries"
   ]
  },
  {
   "cell_type": "code",
   "execution_count": 1,
   "metadata": {},
   "outputs": [],
   "source": [
    "import numpy as np \n",
    "import matplotlib.pyplot as plt \n",
    "import matplotlib.colors as mcolors\n",
    "import seaborn as sns\n",
    "import pandas as pd \n",
    "import random\n",
    "import math\n",
    "from scipy.stats import expon\n",
    "import time\n",
    "from sklearn.linear_model import LinearRegression, BayesianRidge\n",
    "from sklearn.model_selection import RandomizedSearchCV, train_test_split\n",
    "from sklearn.preprocessing import PolynomialFeatures\n",
    "from sklearn.svm import SVR\n",
    "from sklearn.metrics import mean_squared_error, mean_absolute_error\n",
    "import datetime\n",
    "import operator \n",
    "from pandas import DataFrame\n",
    "from statsmodels.tsa.arima_model import ARIMA\n",
    "from pandas import read_csv\n",
    "from pandas.plotting import autocorrelation_plot\n",
    "\n",
    "#from pandas import datetime\n",
    "from matplotlib import pyplot\n",
    "from statsmodels.tsa.arima_model import ARIMA\n",
    "from sklearn.metrics import mean_squared_error\n",
    "plt.style.use('seaborn')\n",
    "%matplotlib inline "
   ]
  },
  {
   "cell_type": "markdown",
   "metadata": {},
   "source": [
    "# Preprocessing  data"
   ]
  },
  {
   "cell_type": "markdown",
   "metadata": {},
   "source": [
    "## load data"
   ]
  },
  {
   "cell_type": "markdown",
   "metadata": {},
   "source": [
    "Nous travaillons avec les donnees publiees sur le site du ministere de la sante du senegal "
   ]
  },
  {
   "cell_type": "code",
   "execution_count": 2,
   "metadata": {},
   "outputs": [
    {
     "data": {
      "text/html": [
       "<div>\n",
       "<style scoped>\n",
       "    .dataframe tbody tr th:only-of-type {\n",
       "        vertical-align: middle;\n",
       "    }\n",
       "\n",
       "    .dataframe tbody tr th {\n",
       "        vertical-align: top;\n",
       "    }\n",
       "\n",
       "    .dataframe thead th {\n",
       "        text-align: right;\n",
       "    }\n",
       "</style>\n",
       "<table border=\"1\" class=\"dataframe\">\n",
       "  <thead>\n",
       "    <tr style=\"text-align: right;\">\n",
       "      <th></th>\n",
       "      <th>Country</th>\n",
       "      <th>lat</th>\n",
       "      <th>long</th>\n",
       "      <th>Date</th>\n",
       "      <th>Daily_case</th>\n",
       "      <th>Confirmed_cases</th>\n",
       "      <th>Imported_cases</th>\n",
       "      <th>Cum_Imported_cases</th>\n",
       "      <th>contacts</th>\n",
       "      <th>Cum_contacts</th>\n",
       "      <th>Communities_cases</th>\n",
       "      <th>Cum_communities_cases</th>\n",
       "      <th>Recovered</th>\n",
       "      <th>Cum_recored</th>\n",
       "      <th>Nb_tests</th>\n",
       "      <th>Cum_Nb_tests</th>\n",
       "      <th>Dead</th>\n",
       "      <th>Cum_Dead</th>\n",
       "      <th>evacuat_out</th>\n",
       "      <th>Cum_evacuat_out</th>\n",
       "    </tr>\n",
       "  </thead>\n",
       "  <tbody>\n",
       "    <tr>\n",
       "      <td>51</td>\n",
       "      <td>Senegal</td>\n",
       "      <td>14.497450</td>\n",
       "      <td>-14.452450</td>\n",
       "      <td>2020-04-22</td>\n",
       "      <td>30</td>\n",
       "      <td>442</td>\n",
       "      <td>0</td>\n",
       "      <td>85</td>\n",
       "      <td>26</td>\n",
       "      <td>310</td>\n",
       "      <td>4</td>\n",
       "      <td>47</td>\n",
       "      <td>11</td>\n",
       "      <td>253</td>\n",
       "      <td>482</td>\n",
       "      <td>6251</td>\n",
       "      <td>1</td>\n",
       "      <td>6</td>\n",
       "      <td>0</td>\n",
       "      <td>1</td>\n",
       "    </tr>\n",
       "    <tr>\n",
       "      <td>52</td>\n",
       "      <td>Senegal</td>\n",
       "      <td>14.497451</td>\n",
       "      <td>-14.452451</td>\n",
       "      <td>2020-04-23</td>\n",
       "      <td>37</td>\n",
       "      <td>479</td>\n",
       "      <td>0</td>\n",
       "      <td>85</td>\n",
       "      <td>29</td>\n",
       "      <td>339</td>\n",
       "      <td>8</td>\n",
       "      <td>55</td>\n",
       "      <td>4</td>\n",
       "      <td>257</td>\n",
       "      <td>387</td>\n",
       "      <td>6638</td>\n",
       "      <td>0</td>\n",
       "      <td>6</td>\n",
       "      <td>0</td>\n",
       "      <td>1</td>\n",
       "    </tr>\n",
       "    <tr>\n",
       "      <td>53</td>\n",
       "      <td>Senegal</td>\n",
       "      <td>14.497452</td>\n",
       "      <td>-14.452452</td>\n",
       "      <td>2020-04-24</td>\n",
       "      <td>66</td>\n",
       "      <td>545</td>\n",
       "      <td>0</td>\n",
       "      <td>85</td>\n",
       "      <td>61</td>\n",
       "      <td>400</td>\n",
       "      <td>5</td>\n",
       "      <td>60</td>\n",
       "      <td>5</td>\n",
       "      <td>262</td>\n",
       "      <td>528</td>\n",
       "      <td>7166</td>\n",
       "      <td>1</td>\n",
       "      <td>7</td>\n",
       "      <td>0</td>\n",
       "      <td>1</td>\n",
       "    </tr>\n",
       "    <tr>\n",
       "      <td>54</td>\n",
       "      <td>Senegal</td>\n",
       "      <td>14.497453</td>\n",
       "      <td>-14.452453</td>\n",
       "      <td>2020-04-25</td>\n",
       "      <td>69</td>\n",
       "      <td>614</td>\n",
       "      <td>0</td>\n",
       "      <td>85</td>\n",
       "      <td>63</td>\n",
       "      <td>463</td>\n",
       "      <td>6</td>\n",
       "      <td>66</td>\n",
       "      <td>14</td>\n",
       "      <td>276</td>\n",
       "      <td>703</td>\n",
       "      <td>7869</td>\n",
       "      <td>0</td>\n",
       "      <td>7</td>\n",
       "      <td>0</td>\n",
       "      <td>1</td>\n",
       "    </tr>\n",
       "    <tr>\n",
       "      <td>55</td>\n",
       "      <td>Senegal</td>\n",
       "      <td>14.497454</td>\n",
       "      <td>-14.452454</td>\n",
       "      <td>2020-04-26</td>\n",
       "      <td>57</td>\n",
       "      <td>671</td>\n",
       "      <td>1</td>\n",
       "      <td>86</td>\n",
       "      <td>47</td>\n",
       "      <td>510</td>\n",
       "      <td>9</td>\n",
       "      <td>75</td>\n",
       "      <td>7</td>\n",
       "      <td>283</td>\n",
       "      <td>579</td>\n",
       "      <td>8448</td>\n",
       "      <td>2</td>\n",
       "      <td>9</td>\n",
       "      <td>0</td>\n",
       "      <td>1</td>\n",
       "    </tr>\n",
       "  </tbody>\n",
       "</table>\n",
       "</div>"
      ],
      "text/plain": [
       "    Country        lat       long       Date  Daily_case  Confirmed_cases  \\\n",
       "51  Senegal  14.497450 -14.452450 2020-04-22          30              442   \n",
       "52  Senegal  14.497451 -14.452451 2020-04-23          37              479   \n",
       "53  Senegal  14.497452 -14.452452 2020-04-24          66              545   \n",
       "54  Senegal  14.497453 -14.452453 2020-04-25          69              614   \n",
       "55  Senegal  14.497454 -14.452454 2020-04-26          57              671   \n",
       "\n",
       "    Imported_cases  Cum_Imported_cases  contacts  Cum_contacts  \\\n",
       "51               0                  85        26           310   \n",
       "52               0                  85        29           339   \n",
       "53               0                  85        61           400   \n",
       "54               0                  85        63           463   \n",
       "55               1                  86        47           510   \n",
       "\n",
       "    Communities_cases  Cum_communities_cases  Recovered  Cum_recored  \\\n",
       "51                  4                     47         11          253   \n",
       "52                  8                     55          4          257   \n",
       "53                  5                     60          5          262   \n",
       "54                  6                     66         14          276   \n",
       "55                  9                     75          7          283   \n",
       "\n",
       "    Nb_tests  Cum_Nb_tests  Dead  Cum_Dead  evacuat_out  Cum_evacuat_out  \n",
       "51       482          6251     1         6            0                1  \n",
       "52       387          6638     0         6            0                1  \n",
       "53       528          7166     1         7            0                1  \n",
       "54       703          7869     0         7            0                1  \n",
       "55       579          8448     2         9            0                1  "
      ]
     },
     "execution_count": 2,
     "metadata": {},
     "output_type": "execute_result"
    }
   ],
   "source": [
    "file_name = 'Covid19SN_datas.xlsx'\n",
    "df_senegal = pd.read_excel(file_name, index_col=0)\n",
    "df_senegal.shape\n",
    "df_senegal = df_senegal.reset_index()\n",
    "df_senegal['Date'] = pd.to_datetime(df_senegal['Date'])\n",
    "df_senegal.tail()"
   ]
  },
  {
   "cell_type": "markdown",
   "metadata": {},
   "source": [
    "# Modelisation"
   ]
  },
  {
   "cell_type": "markdown",
   "metadata": {},
   "source": [
    "## Preparation des donnees"
   ]
  },
  {
   "cell_type": "code",
   "execution_count": null,
   "metadata": {},
   "outputs": [],
   "source": [
    "def get_daily_var(ct,df):\n",
    "    \n",
    "    \"\"\"\n",
    "      This function takes the countries name and database in parameters.\n",
    "      It returns a datframe with daily cases value and date as index\n",
    "    \"\"\"\n",
    "    #Prepare country data\n",
    "    ct_df = df[df['Country'] == ct]\n",
    "    first_date = ct_df[ct_df['Confirmed_cases'] != 0]['Date'].values[0]\n",
    "    confirmed = ct_df[ct_df['Date'] >= first_date]\n",
    "    confirmed_cases = confirmed[['Date', 'Daily_case']].set_index('Date')\n",
    "    \n",
    "    \n",
    "    return confirmed_cases"
   ]
  },
  {
   "cell_type": "code",
   "execution_count": null,
   "metadata": {},
   "outputs": [],
   "source": [
    "def get_pred_data (conf):\n",
    "          \n",
    "    \"\"\"\n",
    "      This function takes the daily dataframe and return it as arrays value\n",
    "      for modelling purpose\n",
    "    \"\"\"\n",
    "    #rearange dataframe values in array format\n",
    "    cases_daily = np.array(conf).reshape(-1,1)\n",
    "    cases_cum = np.array(conf.cumsum()).reshape(-1,1)\n",
    "    days_since = np.arange(len(conf)).reshape(-1,1)\n",
    "    \n",
    "    return  cases_daily, cases_cum, days_since\n",
    "\n"
   ]
  },
  {
   "cell_type": "code",
   "execution_count": null,
   "metadata": {},
   "outputs": [],
   "source": [
    "def get_pred_date (n, conf):\n",
    "    \n",
    "    \"\"\"\n",
    "      This function generates n days for prediction\n",
    "    \"\"\"\n",
    "    future_forcast = np.arange(len(conf) + n).reshape(-1,1)\n",
    "    start_date = conf.index[0]\n",
    "    future_forcast_dates = [(start_date + datetime.timedelta(days=i)).strftime('%d/%m/%Y') for i in range(len(future_forcast))] \n",
    "    \n",
    "    return future_forcast,future_forcast_dates"
   ]
  },
  {
   "cell_type": "code",
   "execution_count": null,
   "metadata": {},
   "outputs": [],
   "source": [
    "n=7\n",
    "cases_df = get_daily_var('Senegal',df_senegal)   \n",
    "cases_daily, cases_cum, days_since = get_pred_data(cases_df)\n",
    "future_forcast,future_forcast_dates = get_pred_date(7, cases_df)"
   ]
  },
  {
   "cell_type": "code",
   "execution_count": null,
   "metadata": {},
   "outputs": [],
   "source": [
    "#days_since = np.array([i for i in range(len(confirmed_cases))]).reshape(-1, 1)\n",
    "#senegal_cases = np.array(confirmed_cases).reshape(-1, 1)\n"
   ]
  },
  {
   "cell_type": "code",
   "execution_count": null,
   "metadata": {},
   "outputs": [],
   "source": [
    "#days_since_cum = np.array([i for i in range(len(confirmed_cases.cumsum()))]).reshape(-1, 1)\n",
    "#senegal_cases_cum = np.array(confirmed_cases.cumsum()).reshape(-1, 1)\n",
    "\n"
   ]
  },
  {
   "cell_type": "code",
   "execution_count": null,
   "metadata": {},
   "outputs": [],
   "source": [
    "#n = 10\n",
    "#days_in_future = n\n",
    "#future_forcast = np.array([i for i in range(len(confirmed_cases)+days_in_future)]).reshape(-1, 1)\n",
    "#adjusted_dates = future_forcast[:-n]\n"
   ]
  },
  {
   "cell_type": "code",
   "execution_count": null,
   "metadata": {},
   "outputs": [],
   "source": [
    "#start = '03/03/2020'\n",
    "#start_date = datetime.datetime.strptime(start, '%d/%m/%Y')\n",
    "#future_forcast_dates = []\n",
    "#for i in range(len(future_forcast)):\n",
    " #   future_forcast_dates.append((start_date + datetime.timedelta(days=i)).strftime('%d/%m/%Y'))"
   ]
  },
  {
   "cell_type": "code",
   "execution_count": null,
   "metadata": {},
   "outputs": [],
   "source": [
    "## Split data train and test"
   ]
  },
  {
   "cell_type": "code",
   "execution_count": null,
   "metadata": {},
   "outputs": [],
   "source": [
    "#X_train_confirmed, X_test_confirmed, y_train_confirmed, y_test_confirmed = train_test_split(days_since, senegal_cases, test_size=0.25, shuffle=False) "
   ]
  },
  {
   "cell_type": "code",
   "execution_count": null,
   "metadata": {},
   "outputs": [],
   "source": [
    "#X = cases_daily\n",
    "#Y = cases_daily\n",
    "#X = cases_cum\n",
    "#Y = cases_cum\n",
    "#Xvalues = cases_cum\n",
    "data = cases_cum\n",
    "size_train=0.60\n",
    "\n"
   ]
  },
  {
   "cell_type": "markdown",
   "metadata": {},
   "source": [
    "# Temporel Series Model"
   ]
  },
  {
   "cell_type": "markdown",
   "metadata": {},
   "source": [
    "Preporocessing Data"
   ]
  },
  {
   "cell_type": "code",
   "execution_count": null,
   "metadata": {},
   "outputs": [],
   "source": [
    "\n",
    "train_size = int(len(data) * size_train)\n",
    "train, test = data[0:train_size], data[train_size:len(data)]\n",
    "print('Observations: %d' % (len(data)))\n",
    "print('Training Observations: %d' % (len(train)))\n",
    "print('Testing Observations: %d' % (len(test)))\n",
    "plt.figure(figsize=(15,5))\n",
    "pyplot.plot(train)\n",
    "pyplot.xticks(rotation = 90)\n",
    "pyplot.plot([None for i in train] + [x for x in test])\n",
    "pyplot.show()"
   ]
  },
  {
   "cell_type": "code",
   "execution_count": null,
   "metadata": {},
   "outputs": [],
   "source": [
    "plt.figure(figsize=(15,5))\n",
    "autocorrelation_plot(data)\n",
    "pyplot.show()"
   ]
  },
  {
   "cell_type": "markdown",
   "metadata": {},
   "source": [
    "## Modele ARIMA"
   ]
  },
  {
   "cell_type": "markdown",
   "metadata": {},
   "source": [
    "Un modèle ARIMA est étiqueté comme modèle ARIMA (p,d,q), dans lequel: \n",
    "- p est le nombre de termes auto-régressifs\n",
    "- d est le nombre de différences\n",
    "- q est le nombre de moyennes mobiles.\n"
   ]
  },
  {
   "cell_type": "code",
   "execution_count": null,
   "metadata": {},
   "outputs": [],
   "source": [
    "# evaluate an ARIMA model for a given order (p,d,q)\n",
    "def evaluate_arima_model(data,size_train, arima_order):\n",
    "\t# prepare training dataset\n",
    "\ttrain_size = int(len(data) * size_train)\n",
    "\ttrain, test = data[0:train_size], data[train_size:]\n",
    "\thistory = [x for x in train]\n",
    "\t# make predictions\n",
    "\tpredictions = list()\n",
    "\tfor t in range(len(test)):\n",
    "\t\tmodel = ARIMA(history, order=arima_order)\n",
    "\t\tmodel_fit = model.fit(disp=0)\n",
    "\t\tyhat = model_fit.forecast()[0]\n",
    "\t\tpredictions.append(yhat)\n",
    "\t\thistory.append(test[t])\n",
    "\t# calculate out of sample error\n",
    "\terror = mean_squared_error(test, predictions)\n",
    "\treturn error\n",
    " \n",
    "\n",
    "\n",
    "\n",
    "def evaluate_models(dataset,size_train, p_values, d_values, q_values):\n",
    "\tdataset = dataset.astype('float32')\n",
    "\tbest_score, best_cfg = float(\"inf\"), None\n",
    "\tfor p in p_values:\n",
    "\t\tfor d in d_values:\n",
    "\t\t\tfor q in q_values:\n",
    "\t\t\t\torder = (p,d,q)\n",
    "\t\t\t\ttry:\n",
    "\t\t\t\t\tmse = evaluate_arima_model(dataset,size_train, order)\n",
    "\t\t\t\t\tif mse < best_score:\n",
    "\t\t\t\t\t\tbest_score, best_cfg = mse, order\n",
    "\t\t\t\t\tprint('ARIMA%s MSE=%.3f' % (order,mse))\n",
    "\t\t\t\texcept:\n",
    "\t\t\t\t\tcontinue\n",
    "\tprint('Best ARIMA%s MSE=%.3f' % (best_cfg, best_score))"
   ]
  },
  {
   "cell_type": "code",
   "execution_count": null,
   "metadata": {},
   "outputs": [],
   "source": [
    "import warnings\n",
    "warnings.filterwarnings(\"ignore\")\n",
    "# evaluate parameters\n",
    "p_values = [0, 1, 2, 4, 6, 8, 10]\n",
    "d_values = range(0, 3)\n",
    "q_values = range(0, 3)\n",
    "warnings.filterwarnings(\"ignore\")\n",
    "evaluate_models(data,size_train, p_values, d_values, q_values)"
   ]
  },
  {
   "cell_type": "code",
   "execution_count": null,
   "metadata": {},
   "outputs": [],
   "source": [
    "#Best ARIMA(0, 2, 0) MSE=123.037\n",
    "# fit model\n",
    "model = ARIMA(data, order=(0,2,1))\n",
    "model_fit = model.fit(disp=0)\n",
    "print(model_fit.summary())\n"
   ]
  },
  {
   "cell_type": "code",
   "execution_count": null,
   "metadata": {},
   "outputs": [],
   "source": [
    "# plot residual errors\n",
    "residuals = DataFrame(model_fit.resid)\n",
    "residuals.plot()\n",
    "pyplot.show()\n",
    "residuals.plot(kind='kde')\n",
    "pyplot.show()\n",
    "print(residuals.describe())"
   ]
  },
  {
   "cell_type": "markdown",
   "metadata": {},
   "source": [
    "### Predictions models ARIMA"
   ]
  },
  {
   "cell_type": "code",
   "execution_count": null,
   "metadata": {},
   "outputs": [],
   "source": [
    "size = int(len(data) * size_train)\n",
    "train, test = data[0:size], data[size:len(data)]\n",
    "history = [x for x in train]\n",
    "predictions = list()\n",
    "for t in range(len(test)):\n",
    "\tmodel = ARIMA(history, order=(0,2,1))\n",
    "\tmodel_fit = model.fit(disp=0)\n",
    "\toutput = model_fit.forecast()\n",
    "\tyhat = output[0]\n",
    "\tpredictions.append(yhat)\n",
    "\tobs = test[t]\n",
    "\thistory.append(obs)\n",
    "\tprint('predicted=%f, expected=%f' % (yhat, obs))\n",
    "error = mean_squared_error(test, predictions)\n",
    "print('Test MSE: %.3f' % error)\n"
   ]
  },
  {
   "cell_type": "code",
   "execution_count": null,
   "metadata": {},
   "outputs": [],
   "source": [
    "# plot\n",
    "plt.figure(figsize=(15,5))\n",
    "\n",
    "pyplot.plot(test)\n",
    "pyplot.plot(predictions, color='red')\n",
    "pyplot.show()"
   ]
  },
  {
   "cell_type": "markdown",
   "metadata": {},
   "source": [
    "# Modele d'autoregression"
   ]
  },
  {
   "cell_type": "markdown",
   "metadata": {},
   "source": [
    "Un modèle d'autorégression est un modèle de régression linéaire qui utilise des variables décalées comme variables d'entrée."
   ]
  },
  {
   "cell_type": "code",
   "execution_count": null,
   "metadata": {},
   "outputs": [],
   "source": [
    "# create and evaluate an updated autoregressive model\n",
    "from pandas import read_csv\n",
    "from matplotlib import pyplot\n",
    "#from statsmodels.tsa.ar_model import AutoReg\n",
    "from sklearn.metrics import mean_squared_error\n",
    "from math import sqrt\n",
    "# load dataset\n",
    "#series = read_csv('daily-minimum-temperatures.csv', header=0, index_col=0, parse_dates=True, squeeze=True)\n",
    "# split dataset\n",
    "#train, test = X[1:len(X)-7], X[len(X)-7:]\n",
    "train_size = int(len(data) * size_train)\n",
    "train, test = data[0:train_size], data[train_size:len(data)]\n",
    "# train autoregression\n",
    "window = 6\n",
    "model = AR(train)\n",
    "model_fit = model.fit()\n",
    "coef = model_fit.params\n",
    "# walk forward over time steps in test\n",
    "history = train[len(train)-window:]\n",
    "history = [history[i] for i in range(len(history))]\n",
    "predictions = list()\n",
    "for t in range(len(test)):\n",
    "\tlength = len(history)\n",
    "\tlag = [history[i] for i in range(length-window,length)]\n",
    "\tyhat = coef[0]\n",
    "\tfor d in range(window):\n",
    "\t\tyhat += coef[d+1] * lag[window-d-1]\n",
    "\tobs = test[t]\n",
    "\tpredictions.append(yhat)\n",
    "\thistory.append(obs)\n",
    "\tprint('predicted=%f, expected=%f' % (yhat, obs))\n",
    "rmse = sqrt(mean_squared_error(test, predictions))\n",
    "print('Test RMSE: %.3f' % rmse)\n",
    "# make prediction\n",
    "\n",
    "# plot\n",
    "pyplot.plot(test)\n",
    "pyplot.plot(predictions, color='red')\n",
    "pyplot.show()"
   ]
  },
  {
   "cell_type": "code",
   "execution_count": null,
   "metadata": {},
   "outputs": [],
   "source": []
  },
  {
   "cell_type": "markdown",
   "metadata": {},
   "source": [
    "Overview\n",
    "\n",
    "This cheat sheet demonstrates 11 different classical time series forecasting methods; they are:\n",
    "\n",
    "Autoregression (AR)\n",
    "Moving Average (MA)\n",
    "Autoregressive Moving Average (ARMA)\n",
    "Autoregressive Integrated Moving Average (ARIMA)\n",
    "Seasonal Autoregressive Integrated Moving-Average (SARIMA)\n",
    "Seasonal Autoregressive Integrated Moving-Average with Exogenous Regressors (SARIMAX)\n",
    "Vector Autoregression (VAR)\n",
    "Vector Autoregression Moving-Average (VARMA)\n",
    "Vector Autoregression Moving-Average with Exogenous Regressors (VARMAX)\n",
    "Simple Exponential Smoothing (SES)\n",
    "Holt Winter’s Exponential Smoothing (HWES)\n"
   ]
  },
  {
   "cell_type": "markdown",
   "metadata": {},
   "source": [
    "# Autoregression (AR)"
   ]
  },
  {
   "cell_type": "markdown",
   "metadata": {},
   "source": [
    "La méthode d'autorégression (AR) modélise la prochaine étape de la séquence en fonction linéaire des observations aux pas de temps précédents.\n",
    "La notation du modèle implique de spécifier l'ordre du modèle p comme paramètre de la fonction AR, par ex. AR (p). \n",
    "Par exemple, AR (1) est un modèle d'autorégression de premier ordre.\n",
    "La méthode convient aux séries chronologiques univariées sans tendance ni composantes saisonnières.\n"
   ]
  },
  {
   "cell_type": "code",
   "execution_count": null,
   "metadata": {},
   "outputs": [],
   "source": [
    "# AR example\n",
    "from statsmodels.tsa.ar_model import AR\n",
    "from random import random\n",
    "# contrived dataset\n",
    "\n",
    "size = int(len(data) * 0.66)\n",
    "train, test = data[0:size], data[size:len(data)]\n",
    "# fit model\n",
    "AR_model = AR(data)\n",
    "AR_model_fit = AR_model.fit()\n",
    "# make prediction\n",
    "yhat = AR_model_fit.predict(len(data), len(data))\n",
    "print(yhat)\n",
    "\n",
    "#model_fit.predict(1,1)"
   ]
  },
  {
   "cell_type": "code",
   "execution_count": null,
   "metadata": {},
   "outputs": [],
   "source": [
    "len(data)"
   ]
  },
  {
   "cell_type": "code",
   "execution_count": null,
   "metadata": {},
   "outputs": [],
   "source": [
    "# Future predictions using Linear Regression \n",
    "print('Model AR future predictions:')\n",
    "set(zip(future_forcast_dates[len(data):len(data)+7], np.round(AR_model_fit.predict(len(data),len(data)+6)) ))"
   ]
  },
  {
   "cell_type": "code",
   "execution_count": null,
   "metadata": {},
   "outputs": [],
   "source": [
    "plt.figure(figsize =(10,5))\n",
    "plt.plot(future_forcast_dates[len(data):len(data)+7], AR_model_fit.predict(len(data),len(data)+6) )\n",
    "plt.show()"
   ]
  },
  {
   "cell_type": "markdown",
   "metadata": {},
   "source": [
    "# Moving Average (MA)"
   ]
  },
  {
   "cell_type": "markdown",
   "metadata": {},
   "source": [
    "\n",
    "The moving average (MA) method models the next step in the sequence as a linear function of the residual errors from a mean process at prior time steps.\n",
    "A moving average model is different from calculating the moving average of the time series.\n",
    "The notation for the model involves specifying the order of the model q as a parameter to the MA function, e.g. MA(q). For example, MA(1) is a first-order moving average model.\n",
    "The method is suitable for univariate time series without trend and seasonal components\n",
    "\n",
    "La méthode de la moyenne mobile (MA) modélise la prochaine étape de la séquence en fonction linéaire des erreurs résiduelles d'un processus moyen à des pas de temps antérieurs.\n",
    "Un modèle de moyenne mobile est différent du calcul de la moyenne mobile de la série chronologique.\n",
    "La notation du modèle implique de spécifier l'ordre du modèle q en tant que paramètre de la fonction MA, par ex. MA (q). Par exemple, MA (1) est un modèle de moyenne mobile de premier ordre.\n",
    "La méthode convient aux séries chronologiques univariées sans tendance ni composantes saisonnières"
   ]
  },
  {
   "cell_type": "code",
   "execution_count": null,
   "metadata": {},
   "outputs": [],
   "source": [
    "\n",
    "# MA example\n",
    "from statsmodels.tsa.arima_model import ARMA\n",
    "from random import random\n",
    "# contrived dataset\n",
    "# fit model\n",
    "MA_model = ARMA(data, order=(0, 1))\n",
    "MA_model_fit = MA_model.fit(disp=False)\n",
    "# make prediction\n",
    "yhat = MA_model_fit.predict(len(data), len(data))\n",
    "print(yhat)"
   ]
  },
  {
   "cell_type": "code",
   "execution_count": null,
   "metadata": {},
   "outputs": [],
   "source": [
    "# Future predictions using Linear Regression \n",
    "print('Model MA future predictions:')\n",
    "set(zip(future_forcast_dates[len(data):len(data)+7], np.round(MA_model_fit.predict(len(data),len(data)+6)) ))"
   ]
  },
  {
   "cell_type": "markdown",
   "metadata": {},
   "source": [
    "# Autoregressive Moving Average (ARMA)"
   ]
  },
  {
   "cell_type": "markdown",
   "metadata": {},
   "source": [
    "La méthode de la moyenne mobile autorégressive (ARMA) modélise la prochaine étape de la séquence en fonction linéaire des observations et des erreurs résiudales aux pas de temps précédents.\n",
    "\n",
    "Il combine à la fois les modèles d'autorégression (AR) et de moyenne mobile (MA).\n",
    "\n",
    "La notation du modèle implique de spécifier l'ordre des modèles AR (p) et MA (q) en tant que paramètres d'une fonction ARMA, par ex. ARMA (p, q). Un modèle ARIMA peut être utilisé pour développer des modèles AR ou MA.\n",
    "\n",
    "La méthode convient aux séries chronologiques univariées sans tendance ni composantes saisonnières"
   ]
  },
  {
   "cell_type": "code",
   "execution_count": null,
   "metadata": {},
   "outputs": [],
   "source": [
    "# ARMA example\n",
    "from statsmodels.tsa.arima_model import ARMA\n",
    "from random import random\n",
    "# contrived dataset\n",
    "# fit model\n",
    "ARMA_model = ARMA(data, order=(2, 2))\n",
    "ARMA_model_fit = ARMA_model.fit(disp=True)\n",
    "# make prediction\n",
    "yhat = ARMA_model_fit.predict(len(data), len(data))\n",
    "print(yhat)\n"
   ]
  },
  {
   "cell_type": "code",
   "execution_count": null,
   "metadata": {},
   "outputs": [],
   "source": [
    "# Future predictions using Linear Regression \n",
    "print('Model ARMA future predictions:')\n",
    "set(zip(future_forcast_dates[len(data):len(data)+7], np.round(ARMA_model_fit.predict(len(data),len(data)+6)) ))"
   ]
  },
  {
   "cell_type": "markdown",
   "metadata": {},
   "source": [
    "# Seasonal Autoregressive Integrated Moving-Average (SARIMA)"
   ]
  },
  {
   "cell_type": "markdown",
   "metadata": {},
   "source": [
    "La méthode SARIMA (Seasonal Autoregressive Integrated Moving Average) modélise la prochaine étape de la séquence en fonction linéaire des observations différenciées, des erreurs, des observations saisonnières différenciées et des erreurs saisonnières aux pas de temps précédents.\n",
    "\n",
    "Il combine le modèle ARIMA avec la possibilité d'effectuer la même autorégression, différenciation et modélisation de la moyenne mobile au niveau saisonnier.\n",
    "\n",
    "La notation du modèle implique de spécifier l'ordre des modèles AR (p), I (d) et MA (q) comme paramètres d'une fonction ARIMA et AR (P), I (D), MA (Q) et m paramètres au niveau saisonnier, par exemple SARIMA (p, d, q) (P, D, Q) m où «m» est le nombre de pas de temps dans chaque saison (la période saisonnière). Un modèle SARIMA peut être utilisé pour développer des modèles AR, MA, ARMA et ARIMA.\n",
    "\n",
    "La méthode convient aux séries chronologiques univariées avec des composantes de tendance et / ou saisonnières.\n"
   ]
  },
  {
   "cell_type": "code",
   "execution_count": null,
   "metadata": {},
   "outputs": [],
   "source": [
    "# SARIMA example\n",
    "from statsmodels.tsa.statespace.sarimax import SARIMAX\n",
    "from random import random\n",
    "# contrived dataset\n",
    "#data = [x + random() for x in range(1, 100)]\n",
    "# fit model\n",
    "SARIMAX_model = SARIMAX(data, order=(1, 1, 1), seasonal_order=(1, 1, 1, 1))\n",
    "SARIMAX_model_fit = SARIMAX_model.fit(disp=False)\n",
    "# make prediction\n",
    "yhat = SARIMAX_model_fit.predict(len(data), len(data))\n",
    "print(yhat)"
   ]
  },
  {
   "cell_type": "code",
   "execution_count": null,
   "metadata": {},
   "outputs": [],
   "source": [
    "# Future predictions using Linear Regression \n",
    "print('Model SARIMAX future predictions:')\n",
    "set(zip(future_forcast_dates[len(data):len(data)+7], np.round(SARIMAX_model_fit.predict(len(data),len(data)+6)) ))"
   ]
  },
  {
   "cell_type": "markdown",
   "metadata": {},
   "source": [
    "# Multivariate time Series Model"
   ]
  },
  {
   "cell_type": "code",
   "execution_count": null,
   "metadata": {},
   "outputs": [],
   "source": [
    "base_predict = pd.DataFrame({\n",
    "                    'Date' : future_forcast_dates[-7:],\n",
    "                    'AR_model':np.round(AR_model_fit.predict(len(data),len(data)+6)),\n",
    "                    'MA_model': np.round(MA_model_fit.predict(len(data),len(data)+6)),\n",
    "                    'ARMA_model' : np.round(ARMA_model_fit.predict(len(data),len(data)+6)),\n",
    "                    'SARIMAX': np.round(SARIMAX_model_fit.predict(len(data),len(data)+6)), \n",
    "                    'Real_value': [6,14,11,12,0,0,0]\n",
    "\n",
    "\n",
    "})\n",
    "    \n",
    "base_predict\n",
    "            "
   ]
  },
  {
   "cell_type": "code",
   "execution_count": null,
   "metadata": {},
   "outputs": [],
   "source": []
  },
  {
   "cell_type": "code",
   "execution_count": null,
   "metadata": {},
   "outputs": [],
   "source": []
  },
  {
   "cell_type": "code",
   "execution_count": null,
   "metadata": {},
   "outputs": [],
   "source": []
  },
  {
   "cell_type": "code",
   "execution_count": null,
   "metadata": {},
   "outputs": [],
   "source": []
  }
 ],
 "metadata": {
  "kernelspec": {
   "display_name": "Python 3",
   "language": "python",
   "name": "python3"
  },
  "language_info": {
   "codemirror_mode": {
    "name": "ipython",
    "version": 3
   },
   "file_extension": ".py",
   "mimetype": "text/x-python",
   "name": "python",
   "nbconvert_exporter": "python",
   "pygments_lexer": "ipython3",
   "version": "3.7.4"
  }
 },
 "nbformat": 4,
 "nbformat_minor": 2
}
