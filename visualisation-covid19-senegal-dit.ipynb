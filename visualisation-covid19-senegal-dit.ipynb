{
 "cells": [
  {
   "cell_type": "markdown",
   "metadata": {},
   "source": [
    "# Importation des modules"
   ]
  },
  {
   "cell_type": "code",
   "execution_count": 8,
   "metadata": {},
   "outputs": [
    {
     "ename": "ImportError",
     "evalue": "cannot import name 'Nominatim' from 'geopy.geocoders' (unknown location)",
     "output_type": "error",
     "traceback": [
      "\u001b[0;31m---------------------------------------------------------------------------\u001b[0m",
      "\u001b[0;31mImportError\u001b[0m                               Traceback (most recent call last)",
      "\u001b[0;32m<ipython-input-8-e121e2e66c94>\u001b[0m in \u001b[0;36m<module>\u001b[0;34m\u001b[0m\n\u001b[1;32m     43\u001b[0m \u001b[0mget_ipython\u001b[0m\u001b[0;34m(\u001b[0m\u001b[0;34m)\u001b[0m\u001b[0;34m.\u001b[0m\u001b[0mrun_line_magic\u001b[0m\u001b[0;34m(\u001b[0m\u001b[0;34m'matplotlib'\u001b[0m\u001b[0;34m,\u001b[0m \u001b[0;34m'inline '\u001b[0m\u001b[0;34m)\u001b[0m\u001b[0;34m\u001b[0m\u001b[0;34m\u001b[0m\u001b[0m\n\u001b[1;32m     44\u001b[0m \u001b[0;32mimport\u001b[0m \u001b[0mgeopy\u001b[0m\u001b[0;34m.\u001b[0m\u001b[0mgeocoders\u001b[0m\u001b[0;34m\u001b[0m\u001b[0;34m\u001b[0m\u001b[0m\n\u001b[0;32m---> 45\u001b[0;31m \u001b[0;32mfrom\u001b[0m \u001b[0mgeopy\u001b[0m\u001b[0;34m.\u001b[0m\u001b[0mgeocoders\u001b[0m \u001b[0;32mimport\u001b[0m \u001b[0mNominatim\u001b[0m\u001b[0;34m\u001b[0m\u001b[0;34m\u001b[0m\u001b[0m\n\u001b[0m\u001b[1;32m     46\u001b[0m \u001b[0mgeolocator\u001b[0m \u001b[0;34m=\u001b[0m \u001b[0mNominatim\u001b[0m\u001b[0;34m(\u001b[0m\u001b[0muser_agent\u001b[0m\u001b[0;34m=\u001b[0m\u001b[0;34m\"myapp2\"\u001b[0m\u001b[0;34m)\u001b[0m\u001b[0;34m\u001b[0m\u001b[0;34m\u001b[0m\u001b[0m\n\u001b[1;32m     47\u001b[0m \u001b[0;32mfrom\u001b[0m \u001b[0mplotly\u001b[0m\u001b[0;34m.\u001b[0m\u001b[0msubplots\u001b[0m \u001b[0;32mimport\u001b[0m \u001b[0mmake_subplots\u001b[0m\u001b[0;34m\u001b[0m\u001b[0;34m\u001b[0m\u001b[0m\n",
      "\u001b[0;31mImportError\u001b[0m: cannot import name 'Nominatim' from 'geopy.geocoders' (unknown location)"
     ]
    }
   ],
   "source": [
    "import numpy as np \n",
    "import matplotlib.pyplot as plt \n",
    "import matplotlib.colors as mcolors\n",
    "\n",
    "\n",
    "import plotly.graph_objects as go\n",
    "import plotly.express as px\n",
    "import plotly.io as pio\n",
    "pio.templates.default = \"plotly_dark\"\n",
    "from plotly.subplots import make_subplots\n",
    "import folium \n",
    "from folium import plugins\n",
    "from tqdm.notebook import tqdm as tqdm\n",
    "\n",
    "import warnings\n",
    "warnings.filterwarnings('ignore')\n",
    "\n",
    "\n",
    "import seaborn as sns\n",
    "import pandas as pd \n",
    "import random\n",
    "import math\n",
    "from scipy.stats import expon\n",
    "import time\n",
    "from sklearn.linear_model import LinearRegression, BayesianRidge\n",
    "from sklearn.model_selection import RandomizedSearchCV, train_test_split\n",
    "from sklearn.preprocessing import PolynomialFeatures\n",
    "from sklearn.svm import SVR\n",
    "from sklearn.metrics import mean_squared_error, mean_absolute_error\n",
    "import datetime\n",
    "import operator \n",
    "from pandas import DataFrame\n",
    "from statsmodels.tsa.arima_model import ARIMA\n",
    "from pandas import read_csv\n",
    "from pandas.plotting import autocorrelation_plot\n",
    "import scipy.optimize as optim\n",
    "\n",
    "#from pandas import datetime\n",
    "from matplotlib import pyplot\n",
    "from statsmodels.tsa.arima_model import ARIMA\n",
    "from sklearn.metrics import mean_squared_error\n",
    "plt.style.use('seaborn')\n",
    "%matplotlib inline \n",
    "import geopy\n",
    "from geopy.geocoders import Nominatim\n",
    "geolocator = Nominatim(user_agent=\"myapp2\")\n",
    "from plotly.subplots import make_subplots\n",
    "\n"
   ]
  },
  {
   "cell_type": "markdown",
   "metadata": {},
   "source": [
    "## Load Data"
   ]
  },
  {
   "cell_type": "code",
   "execution_count": null,
   "metadata": {},
   "outputs": [],
   "source": [
    "file_name = 'Covid19SN_datas.xlsx' \n",
    "df = pd.read_excel(file_name, index_col=0)\n",
    "df.shape\n",
    "df = df.reset_index()\n",
    "df.head()\n"
   ]
  },
  {
   "cell_type": "code",
   "execution_count": null,
   "metadata": {},
   "outputs": [],
   "source": [
    "date_c = df.groupby('Date')['Daily_case','Imported_cases','contacts','Communities_cases'].sum().reset_index()\n"
   ]
  },
  {
   "cell_type": "code",
   "execution_count": null,
   "metadata": {},
   "outputs": [],
   "source": [
    "date_c = df.groupby('Date')['Daily_case','Imported_cases','contacts','Communities_cases'].sum().reset_index()\n",
    "\n",
    "\n",
    "fig = make_subplots(rows=1, cols=4, subplot_titles=(\"Daily_case\", \"Imported_cases\", \"contacts\",'Communities_cases'))\n",
    "\n",
    "trace1 = go.Scatter(\n",
    "                x=date_c['Date'],\n",
    "                y=date_c['Daily_case'],\n",
    "                name=\"cas_positif\",\n",
    "                line_color='orange',\n",
    "                mode='lines+markers',\n",
    "                opacity=0.8)\n",
    "trace2 = go.Scatter(\n",
    "                x=date_c['Date'],\n",
    "                y=date_c['Imported_cases'],\n",
    "                name=\"importes\",\n",
    "                line_color='red',\n",
    "                mode='lines+markers',\n",
    "                opacity=0.8)\n",
    "\n",
    "trace3 = go.Scatter(\n",
    "                x=date_c['Date'],\n",
    "                y=date_c['contacts'],\n",
    "                name=\"contacts\",\n",
    "                mode='lines+markers',\n",
    "                line_color='green',\n",
    "                opacity=0.8)\n",
    "\n",
    "trace4 = go.Scatter(\n",
    "                x=date_c['Date'],\n",
    "                y=date_c['Communities_cases'],\n",
    "                name=\"communautaires\",\n",
    "                line_color='blue',\n",
    "                mode='lines+markers',\n",
    "                opacity=0.8)\n",
    "\n",
    "fig.append_trace(trace1, 1, 1)\n",
    "fig.append_trace(trace2, 1, 2)\n",
    "fig.append_trace(trace3, 1, 3)\n",
    "fig.append_trace(trace4, 1, 4)\n",
    "fig.update_layout(template=\"plotly_dark\",title_text = '<b>Global West Africa  Spread of the Coronavirus Over Time </b>',\n",
    "                  font=dict(family=\"Arial, Balto, Courier New, Droid Sans\",color='white'))\n",
    "fig.show()"
   ]
  },
  {
   "cell_type": "code",
   "execution_count": null,
   "metadata": {},
   "outputs": [],
   "source": [
    "#date_c = df.groupby('Date')['cas_positif','importes','contacts','communautaires'].sum().reset_index()\n",
    "\n",
    "\n",
    "from plotly.subplots import make_subplots\n",
    "fig = make_subplots(rows=1, cols=4, subplot_titles=(\"cas_positif\", \"importes\", \"contacts\",'communautaires'))\n",
    "\n",
    "trace1 = go.Scatter(\n",
    "                x=date_c['Date'],\n",
    "                y=date_c['Daily_case'].cumsum(),\n",
    "                name=\"cas_positif\",\n",
    "                line_color='orange',\n",
    "                mode='lines+markers',\n",
    "                opacity=0.8)\n",
    "trace2 = go.Scatter(\n",
    "                x=date_c['Date'],\n",
    "                y=date_c['Imported_cases'].cumsum(),\n",
    "                name=\"importes\",\n",
    "                line_color='red',\n",
    "                mode='lines+markers',\n",
    "                opacity=0.8)\n",
    "\n",
    "trace3 = go.Scatter(\n",
    "                x=date_c['Date'],\n",
    "                y=date_c['contacts'].cumsum(),\n",
    "                name=\"contacts\",\n",
    "                mode='lines+markers',\n",
    "                line_color='green',\n",
    "                opacity=0.8)\n",
    "\n",
    "trace4 = go.Scatter(\n",
    "                x=date_c['Date'],\n",
    "                y=date_c['Communities_cases'].cumsum(),\n",
    "                name=\"communautaires\",\n",
    "                line_color='blue',\n",
    "                mode='lines+markers',\n",
    "                opacity=0.8)\n",
    "\n",
    "fig.append_trace(trace1, 1, 1)\n",
    "fig.append_trace(trace2, 1, 2)\n",
    "fig.append_trace(trace3, 1, 3)\n",
    "fig.append_trace(trace4, 1, 4)\n",
    "fig.update_layout(template=\"plotly_dark\",title_text = '<b>Global West Africa  Spread of the Coronavirus Over Time </b>',\n",
    "                  font=dict(family=\"Arial, Balto, Courier New, Droid Sans\",color='white'))\n",
    "fig.show()"
   ]
  },
  {
   "cell_type": "code",
   "execution_count": null,
   "metadata": {},
   "outputs": [],
   "source": [
    "file_name = 'Covid19SN_region.xlsx' \n",
    "df_region = pd.read_excel(file_name, index_col=0)\n",
    "df_region.shape\n",
    "df_region = df_region.reset_index()\n",
    "df_region_c = df_region.groupby('Région')['Cas_Confirmés'].sum().reset_index()\n",
    "df_region.head()"
   ]
  },
  {
   "cell_type": "code",
   "execution_count": null,
   "metadata": {},
   "outputs": [],
   "source": [
    "df_region_c['Lat'] = 0.00\n",
    "df_region_c['Long'] = 0.00\n",
    "df_region['Lat'] = 0.00\n",
    "df_region['Long'] = 0.00"
   ]
  },
  {
   "cell_type": "code",
   "execution_count": null,
   "metadata": {},
   "outputs": [],
   "source": [
    "Region = df_region_c['Région'].values.tolist()\n",
    "departement = df_region['Département'].values.tolist()\n"
   ]
  },
  {
   "cell_type": "code",
   "execution_count": null,
   "metadata": {},
   "outputs": [],
   "source": [
    "i=0\n",
    "for ct in departement:\n",
    "    #if ct == 'Saint-Louis':\n",
    "        ct1=ct+', Senegal'\n",
    "        #print(ct1)\n",
    "        location = geolocator.geocode(ct1)\n",
    "        #print(location.latitude, location.longitude)\n",
    "    #else :  \n",
    "        #location = geolocator.geocode(ct)\n",
    "\n",
    "        df_region['Lat'][i]= float(location.latitude)\n",
    "        df_region['Long'][i]= float(location.longitude)\n",
    "        i=i+1\n",
    "\n"
   ]
  },
  {
   "cell_type": "code",
   "execution_count": null,
   "metadata": {},
   "outputs": [],
   "source": [
    "# create map and display it\n",
    "world_map = folium.Map(location=[10, -20], zoom_start=2.5,tiles='Stamen Toner')\n",
    "\n",
    "for lat, lon, Confirmed,name in zip(df_region['Lat'], df_region['Long'], df_region['Cas_Confirmés'],df_region['Département'] ):\n",
    "    folium.CircleMarker([lat, lon],\n",
    "                        radius=7,\n",
    "                        popup = ('<strong>Country</strong>: ' + str(name).capitalize() + '<br>'\n",
    "                                '<strong>Confirmed Cases</strong>: ' + str(Confirmed) + '<br>'\n",
    "                                ),\n",
    "                        color='red',\n",
    "                        \n",
    "                        fill_color='red',\n",
    "                        fill_opacity=0.7 ).add_to(world_map)\n",
    "world_map"
   ]
  },
  {
   "cell_type": "markdown",
   "metadata": {},
   "source": [
    "## load Data "
   ]
  },
  {
   "cell_type": "code",
   "execution_count": null,
   "metadata": {},
   "outputs": [],
   "source": [
    "file_name = 'Covid19SN_region_detail.xlsx'\n",
    "df_region = pd.read_excel(file_name, index_col=0)\n",
    "df_region.shape\n",
    "df_region = df_region.reset_index()\n",
    "#df_region_c = df_region.groupby('Région')['Cas_Confirmés'].sum().reset_index()\n",
    "df_region.head()"
   ]
  },
  {
   "cell_type": "code",
   "execution_count": null,
   "metadata": {},
   "outputs": [],
   "source": [
    "df_region.count\n",
    "count_row = df_region.shape[0]  # gives number of row count\n",
    "count_row"
   ]
  },
  {
   "cell_type": "markdown",
   "metadata": {},
   "source": [
    "### Simuler les donnees GPS "
   ]
  },
  {
   "cell_type": "code",
   "execution_count": null,
   "metadata": {},
   "outputs": [],
   "source": [
    "# cette partie permet de simuler des donnees \n",
    "from functools import partial\n",
    "import pyproj\n",
    "from shapely.ops import transform\n",
    "from shapely.geometry import Point\n",
    "\n",
    "pas = 100 # simulisation sur un rayon de pas\n",
    "Nsimul = count_row # nombre de points a simuler\n",
    "\n",
    "proj_wgs84 = pyproj.Proj(init='epsg:4326')\n",
    "\n",
    "\n",
    "def geodesic_point_buffer(lat, lon, km):\n",
    "    # Azimuthal equidistant projection\n",
    "    aeqd_proj = '+proj=aeqd +lat_0={lat} +lon_0={lon} +x_0=0 +y_0=0'\n",
    "    project = partial(\n",
    "        pyproj.transform,\n",
    "        pyproj.Proj(aeqd_proj.format(lat=lat, lon=lon)),\n",
    "        proj_wgs84)\n",
    "    buf = Point(0, 0).buffer(km * 1000)  # distance in metres\n",
    "    return transform(project, buf).exterior.coords[:]\n",
    "\n",
    "# Example\n",
    "b = geodesic_point_buffer(14.695153, -17.473611, 100)\n",
    "\n",
    "print(b)"
   ]
  },
  {
   "cell_type": "code",
   "execution_count": null,
   "metadata": {},
   "outputs": [],
   "source": [
    "# create map and display it\n",
    "world_map = folium.Map(location=[10, -20], zoom_start=2.5,tiles='Stamen Toner')\n",
    "\n",
    "for lat, lon, confirme,name in zip(df_region['lat'], df_region['long'], df_region['confirme'],df_region['Departement'] ):\n",
    "    folium.CircleMarker([lat, lon],\n",
    "                        radius=7,\n",
    "                        popup = ('<strong>Country</strong>: ' + str(name).capitalize() + '<br>'\n",
    "                                '<strong>Confirmed Cases</strong>: ' + str(confirme) + '<br>'\n",
    "\n",
    "\n",
    "                                ),\n",
    "                        color='red',\n",
    "                        \n",
    "                        fill_color='red',\n",
    "                        fill_opacity=0.7 ).add_to(world_map)\n",
    "    \n",
    "    \n",
    "for lat, lon, supect,name in zip(df_region['lat'], df_region['long'] ,df_region['supect'],df_region['Departement'] ):\n",
    "    folium.CircleMarker([lat, lon],\n",
    "                        radius=7,\n",
    "                        popup = ('<strong>Country</strong>: ' + str(name).capitalize() + '<br>'\n",
    "                                '<strong>suspect Cases</strong>: ' + str(supect) + '<br>'\n",
    "\n",
    "\n",
    "                                ),\n",
    "                        color='blue',\n",
    "                        \n",
    "                        fill_color='blue',\n",
    "                        fill_opacity=0.7 ).add_to(world_map)\n",
    "        \n",
    "    \n",
    "    \n",
    "    \n",
    "    \n",
    "    \n",
    "    \n",
    "world_map"
   ]
  },
  {
   "cell_type": "code",
   "execution_count": null,
   "metadata": {},
   "outputs": [],
   "source": [
    "from folium import plugins\n",
    "from folium.plugins import HeatMap\n",
    "\n",
    "\n",
    "map_hooray = folium.Map(location=[51.5074, 0.1278],\n",
    "                    zoom_start = 13) \n",
    "\n",
    "# Ensure you're handing it floats\n",
    "df_region['lat'] = df_region['lat'].astype(float)\n",
    "df_region['long'] = df_region['long'].astype(float)\n",
    "\n",
    "# Filter the DF for rows, then columns, then remove NaNs\n",
    "df_region = df_region[df_region['confirme']==1] # Reducing data size so it runs faster\n",
    "df_region = df_region[df_region['Departement']=='DAKAR-OUEST'] # Reducing data size so it runs faster\n",
    "df_region = df_region[['lat', 'long']]\n",
    "df_region = df_region.dropna(axis=0, subset=['lat','long'])\n",
    "\n",
    "# List comprehension to make out list of lists\n",
    "heat_data = [[row['lat'],row['long']] for index, row in df_region.iterrows()]\n",
    "\n",
    "# Plot it on the map\n",
    "HeatMap(heat_data).add_to(map_hooray)\n",
    "\n",
    "# Display the map\n",
    "map_hooray"
   ]
  }
 ],
 "metadata": {
  "kernelspec": {
   "display_name": "Python 3",
   "language": "python",
   "name": "python3"
  },
  "language_info": {
   "codemirror_mode": {
    "name": "ipython",
    "version": 3
   },
   "file_extension": ".py",
   "mimetype": "text/x-python",
   "name": "python",
   "nbconvert_exporter": "python",
   "pygments_lexer": "ipython3",
   "version": "3.7.6"
  }
 },
 "nbformat": 4,
 "nbformat_minor": 2
}
