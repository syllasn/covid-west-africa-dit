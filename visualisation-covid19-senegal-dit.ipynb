{
 "cells": [
  {
   "cell_type": "markdown",
   "metadata": {},
   "source": [
    "# Importation des modules"
   ]
  },
  {
   "cell_type": "code",
   "execution_count": 8,
   "metadata": {},
   "outputs": [
    {
     "ename": "ImportError",
     "evalue": "cannot import name 'Nominatim' from 'geopy.geocoders' (unknown location)",
     "output_type": "error",
     "traceback": [
      "\u001b[0;31m---------------------------------------------------------------------------\u001b[0m",
      "\u001b[0;31mImportError\u001b[0m                               Traceback (most recent call last)",
      "\u001b[0;32m<ipython-input-8-e121e2e66c94>\u001b[0m in \u001b[0;36m<module>\u001b[0;34m\u001b[0m\n\u001b[1;32m     43\u001b[0m \u001b[0mget_ipython\u001b[0m\u001b[0;34m(\u001b[0m\u001b[0;34m)\u001b[0m\u001b[0;34m.\u001b[0m\u001b[0mrun_line_magic\u001b[0m\u001b[0;34m(\u001b[0m\u001b[0;34m'matplotlib'\u001b[0m\u001b[0;34m,\u001b[0m \u001b[0;34m'inline '\u001b[0m\u001b[0;34m)\u001b[0m\u001b[0;34m\u001b[0m\u001b[0;34m\u001b[0m\u001b[0m\n\u001b[1;32m     44\u001b[0m \u001b[0;32mimport\u001b[0m \u001b[0mgeopy\u001b[0m\u001b[0;34m.\u001b[0m\u001b[0mgeocoders\u001b[0m\u001b[0;34m\u001b[0m\u001b[0;34m\u001b[0m\u001b[0m\n\u001b[0;32m---> 45\u001b[0;31m \u001b[0;32mfrom\u001b[0m \u001b[0mgeopy\u001b[0m\u001b[0;34m.\u001b[0m\u001b[0mgeocoders\u001b[0m \u001b[0;32mimport\u001b[0m \u001b[0mNominatim\u001b[0m\u001b[0;34m\u001b[0m\u001b[0;34m\u001b[0m\u001b[0m\n\u001b[0m\u001b[1;32m     46\u001b[0m \u001b[0mgeolocator\u001b[0m \u001b[0;34m=\u001b[0m \u001b[0mNominatim\u001b[0m\u001b[0;34m(\u001b[0m\u001b[0muser_agent\u001b[0m\u001b[0;34m=\u001b[0m\u001b[0;34m\"myapp2\"\u001b[0m\u001b[0;34m)\u001b[0m\u001b[0;34m\u001b[0m\u001b[0;34m\u001b[0m\u001b[0m\n\u001b[1;32m     47\u001b[0m \u001b[0;32mfrom\u001b[0m \u001b[0mplotly\u001b[0m\u001b[0;34m.\u001b[0m\u001b[0msubplots\u001b[0m \u001b[0;32mimport\u001b[0m \u001b[0mmake_subplots\u001b[0m\u001b[0;34m\u001b[0m\u001b[0;34m\u001b[0m\u001b[0m\n",
      "\u001b[0;31mImportError\u001b[0m: cannot import name 'Nominatim' from 'geopy.geocoders' (unknown location)"
     ]
    }
   ],
   "source": [
    "import numpy as np \n",
    "import matplotlib.pyplot as plt \n",
    "import matplotlib.colors as mcolors\n",
    "\n",
    "\n",
    "import plotly.graph_objects as go\n",
    "import plotly.express as px\n",
    "import plotly.io as pio\n",
    "pio.templates.default = \"plotly_dark\"\n",
    "from plotly.subplots import make_subplots\n",
    "import folium \n",
    "from folium import plugins\n",
    "from tqdm.notebook import tqdm as tqdm\n",
    "\n",
    "import warnings\n",
    "warnings.filterwarnings('ignore')\n",
    "\n",
    "\n",
    "import seaborn as sns\n",
    "import pandas as pd \n",
    "import random\n",
    "import math\n",
    "from scipy.stats import expon\n",
    "import time\n",
    "from sklearn.linear_model import LinearRegression, BayesianRidge\n",
    "from sklearn.model_selection import RandomizedSearchCV, train_test_split\n",
    "from sklearn.preprocessing import PolynomialFeatures\n",
    "from sklearn.svm import SVR\n",
    "from sklearn.metrics import mean_squared_error, mean_absolute_error\n",
    "import datetime\n",
    "import operator \n",
    "from pandas import DataFrame\n",
    "from statsmodels.tsa.arima_model import ARIMA\n",
    "from pandas import read_csv\n",
    "from pandas.plotting import autocorrelation_plot\n",
    "import scipy.optimize as optim\n",
    "\n",
    "#from pandas import datetime\n",
    "from matplotlib import pyplot\n",
    "from statsmodels.tsa.arima_model import ARIMA\n",
    "from sklearn.metrics import mean_squared_error\n",
    "plt.style.use('seaborn')\n",
    "%matplotlib inline \n",
    "import geopy\n",
    "from geopy.geocoders import Nominatim\n",
    "geolocator = Nominatim(user_agent=\"myapp2\")\n",
    "from plotly.subplots import make_subplots\n",
    "\n"
   ]
  },
  {
   "cell_type": "markdown",
   "metadata": {},
   "source": [
    "## Load Data"
   ]
  },
  {
   "cell_type": "code",
   "execution_count": null,
   "metadata": {},
   "outputs": [],
   "source": [
    "file_name = 'Covid19SN_datas.xlsx' \n",
    "df = pd.read_excel(file_name, index_col=0)\n",
    "df.shape\n",
    "df = df.reset_index()\n",
    "\n"
   ]
  },
  {
   "cell_type": "code",
   "execution_count": null,
   "metadata": {},
   "outputs": [],
   "source": [
    "date_c = df.groupby('date')['cas_positif','importes','contacts','communautaires'].sum().reset_index()\n"
   ]
  },
  {
   "cell_type": "code",
   "execution_count": null,
   "metadata": {},
   "outputs": [],
   "source": [
    "date_c = df.groupby('date')['cas_positif','importes','contacts','communautaires'].sum().reset_index()\n",
    "\n",
    "\n",
    "fig = make_subplots(rows=1, cols=4, subplot_titles=(\"cas_positif\", \"importes\", \"contacts\",'communautaires'))\n",
    "\n",
    "trace1 = go.Scatter(\n",
    "                x=date_c['date'],\n",
    "                y=date_c['cas_positif'],\n",
    "                name=\"cas_positif\",\n",
    "                line_color='orange',\n",
    "                mode='lines+markers',\n",
    "                opacity=0.8)\n",
    "trace2 = go.Scatter(\n",
    "                x=date_c['date'],\n",
    "                y=date_c['importes'],\n",
    "                name=\"importes\",\n",
    "                line_color='red',\n",
    "                mode='lines+markers',\n",
    "                opacity=0.8)\n",
    "\n",
    "trace3 = go.Scatter(\n",
    "                x=date_c['date'],\n",
    "                y=date_c['contacts'],\n",
    "                name=\"contacts\",\n",
    "                mode='lines+markers',\n",
    "                line_color='green',\n",
    "                opacity=0.8)\n",
    "\n",
    "trace4 = go.Scatter(\n",
    "                x=date_c['date'],\n",
    "                y=date_c['communautaires'],\n",
    "                name=\"communautaires\",\n",
    "                line_color='blue',\n",
    "                mode='lines+markers',\n",
    "                opacity=0.8)\n",
    "\n",
    "fig.append_trace(trace1, 1, 1)\n",
    "fig.append_trace(trace2, 1, 2)\n",
    "fig.append_trace(trace3, 1, 3)\n",
    "fig.append_trace(trace4, 1, 4)\n",
    "fig.update_layout(template=\"plotly_dark\",title_text = '<b>Global West Africa  Spread of the Coronavirus Over Time </b>',\n",
    "                  font=dict(family=\"Arial, Balto, Courier New, Droid Sans\",color='white'))\n",
    "fig.show()"
   ]
  },
  {
   "cell_type": "code",
   "execution_count": null,
   "metadata": {},
   "outputs": [],
   "source": [
    "date_c = df.groupby('date')['cas_positif','importes','contacts','communautaires'].sum().reset_index()\n",
    "\n",
    "\n",
    "from plotly.subplots import make_subplots\n",
    "fig = make_subplots(rows=1, cols=4, subplot_titles=(\"cas_positif\", \"importes\", \"contacts\",'communautaires'))\n",
    "\n",
    "trace1 = go.Scatter(\n",
    "                x=date_c['date'],\n",
    "                y=date_c['cas_positif'].cumsum(),\n",
    "                name=\"cas_positif\",\n",
    "                line_color='orange',\n",
    "                mode='lines+markers',\n",
    "                opacity=0.8)\n",
    "trace2 = go.Scatter(\n",
    "                x=date_c['date'],\n",
    "                y=date_c['importes'].cumsum(),\n",
    "                name=\"importes\",\n",
    "                line_color='red',\n",
    "                mode='lines+markers',\n",
    "                opacity=0.8)\n",
    "\n",
    "trace3 = go.Scatter(\n",
    "                x=date_c['date'],\n",
    "                y=date_c['contacts'].cumsum(),\n",
    "                name=\"contacts\",\n",
    "                mode='lines+markers',\n",
    "                line_color='green',\n",
    "                opacity=0.8)\n",
    "\n",
    "trace4 = go.Scatter(\n",
    "                x=date_c['date'],\n",
    "                y=date_c['communautaires'].cumsum(),\n",
    "                name=\"communautaires\",\n",
    "                line_color='blue',\n",
    "                mode='lines+markers',\n",
    "                opacity=0.8)\n",
    "\n",
    "fig.append_trace(trace1, 1, 1)\n",
    "fig.append_trace(trace2, 1, 2)\n",
    "fig.append_trace(trace3, 1, 3)\n",
    "fig.append_trace(trace4, 1, 4)\n",
    "fig.update_layout(template=\"plotly_dark\",title_text = '<b>Global West Africa  Spread of the Coronavirus Over Time </b>',\n",
    "                  font=dict(family=\"Arial, Balto, Courier New, Droid Sans\",color='white'))\n",
    "fig.show()"
   ]
  },
  {
   "cell_type": "code",
   "execution_count": null,
   "metadata": {},
   "outputs": [],
   "source": [
    "file_name = 'Covid19SN_region.xlsx' \n",
    "df_region = pd.read_excel(file_name, index_col=0)\n",
    "df_region.shape\n",
    "df_region = df_region.reset_index()\n",
    "df_region_c = df_region.groupby('Région')['Cas_Confirmés'].sum().reset_index()\n"
   ]
  },
  {
   "cell_type": "code",
   "execution_count": null,
   "metadata": {},
   "outputs": [],
   "source": [
    "df_region_c['Lat'] = 0.00\n",
    "df_region_c['Long'] = 0.00"
   ]
  },
  {
   "cell_type": "code",
   "execution_count": null,
   "metadata": {},
   "outputs": [],
   "source": [
    "Region = df_region_c['Région'].values.tolist()\n"
   ]
  },
  {
   "cell_type": "code",
   "execution_count": null,
   "metadata": {},
   "outputs": [],
   "source": [
    "i=0\n",
    "for ct in Region:\n",
    "    if ct == 'Saint-Louis':\n",
    "        ct1=ct+', Senegal'\n",
    "        location = geolocator.geocode(ct1)\n",
    "    else :  \n",
    "        location = geolocator.geocode(ct)\n",
    "\n",
    "    df_region_c['Lat'][i]= float(location.latitude)\n",
    "    df_region_c['Long'][i]= float(location.longitude)\n",
    "    i=i+1\n",
    "\n"
   ]
  },
  {
   "cell_type": "code",
   "execution_count": null,
   "metadata": {},
   "outputs": [],
   "source": [
    "# create map and display it\n",
    "world_map = folium.Map(location=[10, -20], zoom_start=2.5,tiles='Stamen Toner')\n",
    "\n",
    "for lat, lon, Confirmed,name in zip(df_region_c['Lat'], df_region_c['Long'], df_region_c['Cas_Confirmés'],df_region_c['Région'] ):\n",
    "    folium.CircleMarker([lat, lon],\n",
    "                        radius=7,\n",
    "                        popup = ('<strong>Country</strong>: ' + str(name).capitalize() + '<br>'\n",
    "                                '<strong>Confirmed Cases</strong>: ' + str(Confirmed) + '<br>'\n",
    "                                ),\n",
    "                        color='red',\n",
    "                        \n",
    "                        fill_color='red',\n",
    "                        fill_opacity=0.7 ).add_to(world_map)\n",
    "world_map"
   ]
  },
  {
   "cell_type": "code",
   "execution_count": null,
   "metadata": {},
   "outputs": [],
   "source": []
  }
 ],
 "metadata": {
  "kernelspec": {
   "display_name": "Python 3",
   "language": "python",
   "name": "python3"
  },
  "language_info": {
   "codemirror_mode": {
    "name": "ipython",
    "version": 3
   },
   "file_extension": ".py",
   "mimetype": "text/x-python",
   "name": "python",
   "nbconvert_exporter": "python",
   "pygments_lexer": "ipython3",
   "version": "3.7.6"
  }
 },
 "nbformat": 4,
 "nbformat_minor": 2
}
